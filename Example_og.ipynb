{
 "cells": [
  {
   "cell_type": "markdown",
   "metadata": {},
   "source": [
    "# Inferring Synaptic Weights from Network Activity\n",
    "\n",
    "Here we compare plausible methods for overcoming the ''weight transport'' problem.\n",
    "\n",
    "<img src=\"https://raw.githubusercontent.com/nasiryahm/STDWI/master/WeightTransportIllustration.png\" width=\"80%\">\n",
    "\n",
    "The illustration above depicts this issue. See the middle pane for the mathematical origin of the requirement of feedforward weight matrices for the error backpropagation.\n",
    "\n",
    "There are two key and recent methods which propose that the feedback error connectivity could be __learned__ by an inference process based upon the activity of the pre and post-synaptic neurons. These are regression discontinuity design (RDD) [1], and a rate-based method which we refer to as the Akrout method [2].\n",
    "\n",
    "We compare these methods against a simple and powerful method inspired by the analytic solution to a leaky-integrate and fire neuron.\n",
    "We refer to this method as Spike Timing-Dependent Weight Inference.\n",
    "\n",
    "[1] Guerguiev J, Kording KP, Richards BA. Spike-based causal inference for weight alignment. arXiv [q-bio.NC]. 2019. Available: http://arxiv.org/abs/1910.01689 \n",
    "\n",
    "[2] Akrout, M., Wilson, C., Humphreys, P. C., Lillicrap, T., & Tweed, D. (2019). Deep Learning without Weight Transport. In arXiv [cs.LG]. arXiv. http://arxiv.org/abs/1904.05391"
   ]
  },
  {
   "cell_type": "code",
   "execution_count": 2,
   "metadata": {},
   "outputs": [],
   "source": [
    "import numpy as np\n",
    "import scipy.stats as spstats\n",
    "import matplotlib.pyplot as plt\n",
    "\n",
    "from weight_inference import simulator\n",
    "from weight_inference import methods\n",
    "from weight_inference import fitter"
   ]
  },
  {
   "cell_type": "code",
   "execution_count": 3,
   "metadata": {},
   "outputs": [],
   "source": [
    "# Function to plot spike train without borders:\n",
    "def plot_spike_train(spike_trains, simulation_time, color='k', alpha='1.0', size=2500):\n",
    "    nb_units = len(spike_trains)\n",
    "    for i in range(nb_units):\n",
    "        spikes = spike_trains[i][spike_trains[i] < simulation_time]\n",
    "        plt.scatter(spikes, i*np.ones((len(spikes))),\n",
    "                    marker=\"|\", s=(size/nb_units), color=color, alpha=alpha)\n",
    "    \n",
    "    # Getting rid of bounding box\n",
    "    ax = plt.gca()\n",
    "    ax.spines['top'].set_visible(False)\n",
    "    ax.spines['right'].set_visible(False)\n",
    "    ax.spines['bottom'].set_visible(False)\n",
    "    ax.spines['left'].set_visible(False)\n",
    "    \n",
    "    return ax"
   ]
  },
  {
   "cell_type": "markdown",
   "metadata": {},
   "source": [
    "Setting up the network shape, synaptic weights, and input stimulation"
   ]
  },
  {
   "cell_type": "code",
   "execution_count": 4,
   "metadata": {},
   "outputs": [],
   "source": [
    "# Network Shape\n",
    "nb_input_neurons, nb_output_neurons = 100, 10\n",
    "\n",
    "# Simulation details\n",
    "simulation_time = 2e5 #ms\n",
    "timestep = 0.25 #ms\n",
    "nb_timesteps = simulation_time // timestep\n",
    "\n",
    "# Stimulation Generation\n",
    "ratio_stimulated = 0.2\n",
    "stimulation_spike_trains = simulator.poisson_spike_train(\n",
    "        nb_input_neurons, 200/1000, simulation_time, timestep) # 200Hz stimulation\n",
    "stimulation_spike_trains = simulator.random_sample_spike_train(\n",
    "    stimulation_spike_trains, simulation_time, timestep, 100, ratio_stimulated) # resampling every 100ms with probability 0.1\n",
    "\n",
    "# Stimulation->Input weights\n",
    "# Creating weight matrices from stimulation to input and input to output\n",
    "stim_scale = 10.0\n",
    "stim_input_weights = stim_scale*np.eye(nb_input_neurons, nb_input_neurons) # One to one with a particular scale\n",
    "\n",
    "# Input->Output neuron synaptic weight matrix\n",
    "input_scale = 7.5*stim_scale # Compensating for hidden layer mean weight, firing rates and number)\n",
    "r = np.random.RandomState(seed=42)\n",
    "input_output_weights = input_scale*((np.sqrt(0.2)/np.sqrt(nb_input_neurons*ratio_stimulated))*r.normal(size=(nb_output_neurons, nb_input_neurons)) + (1 / (nb_input_neurons*ratio_stimulated)))\n"
   ]
  },
  {
   "cell_type": "markdown",
   "metadata": {},
   "source": [
    "### Simulating the network activity"
   ]
  },
  {
   "cell_type": "code",
   "execution_count": 5,
   "metadata": {},
   "outputs": [],
   "source": [
    "# Computing stimulation to input neurons\n",
    "stimulation_xpsps = simulator.spike_trains_to_xpsps(stimulation_spike_trains, simulation_time, timestep)\n",
    "\n",
    "# Computing input neuron activity\n",
    "input_neuron_acc, input_neuron_mem, input_neuron_spike_trains = simulator.lif_dynamics(\n",
    "        stimulation_xpsps, stim_input_weights, timestep)\n",
    "input_neuron_xpsps = simulator.spike_trains_to_xpsps(input_neuron_spike_trains, simulation_time, timestep)\n",
    "\n",
    "# Computing output neuron activity\n",
    "output_neuron_acc, output_neuron_mem, output_neuron_spike_trains = simulator.lif_dynamics(\n",
    "        input_neuron_xpsps, input_output_weights, timestep)\n",
    "output_neuron_xpsps = simulator.spike_trains_to_xpsps(output_neuron_spike_trains, simulation_time, timestep)"
   ]
  },
  {
   "cell_type": "markdown",
   "metadata": {},
   "source": [
    "### Visualising network activity"
   ]
  },
  {
   "cell_type": "code",
   "execution_count": 6,
   "metadata": {},
   "outputs": [
    {
     "ename": "TypeError",
     "evalue": "alpha must be numeric or None, not a string",
     "output_type": "error",
     "traceback": [
      "\u001b[0;31m---------------------------------------------------------------------------\u001b[0m",
      "\u001b[0;31mTypeError\u001b[0m                                 Traceback (most recent call last)",
      "Cell \u001b[0;32mIn[6], line 10\u001b[0m\n\u001b[1;32m      7\u001b[0m plt\u001b[38;5;241m.\u001b[39mylabel(\u001b[38;5;124m\"\u001b[39m\u001b[38;5;124mStimulation Neuron ID\u001b[39m\u001b[38;5;124m\"\u001b[39m)\n\u001b[1;32m      9\u001b[0m plt\u001b[38;5;241m.\u001b[39msubplot(\u001b[38;5;241m3\u001b[39m,\u001b[38;5;241m1\u001b[39m,\u001b[38;5;241m2\u001b[39m)\n\u001b[0;32m---> 10\u001b[0m ax \u001b[38;5;241m=\u001b[39m plot_spike_train(input_neuron_spike_trains, \u001b[38;5;241m1e3\u001b[39m, size\u001b[38;5;241m=\u001b[39m\u001b[38;5;241m500\u001b[39m)\n\u001b[1;32m     11\u001b[0m plt\u001b[38;5;241m.\u001b[39mxticks([])\n\u001b[1;32m     12\u001b[0m plt\u001b[38;5;241m.\u001b[39mylabel(\u001b[38;5;124m\"\u001b[39m\u001b[38;5;124mInput Neuron ID\u001b[39m\u001b[38;5;124m\"\u001b[39m)\n",
      "Cell \u001b[0;32mIn[3], line 6\u001b[0m, in \u001b[0;36mplot_spike_train\u001b[0;34m(spike_trains, simulation_time, color, alpha, size)\u001b[0m\n\u001b[1;32m      4\u001b[0m \u001b[38;5;28;01mfor\u001b[39;00m i \u001b[38;5;129;01min\u001b[39;00m \u001b[38;5;28mrange\u001b[39m(nb_units):\n\u001b[1;32m      5\u001b[0m     spikes \u001b[38;5;241m=\u001b[39m spike_trains[i][spike_trains[i] \u001b[38;5;241m<\u001b[39m simulation_time]\n\u001b[0;32m----> 6\u001b[0m     plt\u001b[38;5;241m.\u001b[39mscatter(spikes, i\u001b[38;5;241m*\u001b[39mnp\u001b[38;5;241m.\u001b[39mones((\u001b[38;5;28mlen\u001b[39m(spikes))),\n\u001b[1;32m      7\u001b[0m                 marker\u001b[38;5;241m=\u001b[39m\u001b[38;5;124m\"\u001b[39m\u001b[38;5;124m|\u001b[39m\u001b[38;5;124m\"\u001b[39m, s\u001b[38;5;241m=\u001b[39m(size\u001b[38;5;241m/\u001b[39mnb_units), color\u001b[38;5;241m=\u001b[39mcolor, alpha\u001b[38;5;241m=\u001b[39malpha)\n\u001b[1;32m      9\u001b[0m \u001b[38;5;66;03m# Getting rid of bounding box\u001b[39;00m\n\u001b[1;32m     10\u001b[0m ax \u001b[38;5;241m=\u001b[39m plt\u001b[38;5;241m.\u001b[39mgca()\n",
      "File \u001b[0;32m~/anaconda3/lib/python3.11/site-packages/matplotlib/pyplot.py:3687\u001b[0m, in \u001b[0;36mscatter\u001b[0;34m(x, y, s, c, marker, cmap, norm, vmin, vmax, alpha, linewidths, edgecolors, plotnonfinite, data, **kwargs)\u001b[0m\n\u001b[1;32m   3668\u001b[0m \u001b[38;5;129m@_copy_docstring_and_deprecators\u001b[39m(Axes\u001b[38;5;241m.\u001b[39mscatter)\n\u001b[1;32m   3669\u001b[0m \u001b[38;5;28;01mdef\u001b[39;00m \u001b[38;5;21mscatter\u001b[39m(\n\u001b[1;32m   3670\u001b[0m     x: \u001b[38;5;28mfloat\u001b[39m \u001b[38;5;241m|\u001b[39m ArrayLike,\n\u001b[0;32m   (...)\u001b[0m\n\u001b[1;32m   3685\u001b[0m     \u001b[38;5;241m*\u001b[39m\u001b[38;5;241m*\u001b[39mkwargs,\n\u001b[1;32m   3686\u001b[0m ) \u001b[38;5;241m-\u001b[39m\u001b[38;5;241m>\u001b[39m PathCollection:\n\u001b[0;32m-> 3687\u001b[0m     __ret \u001b[38;5;241m=\u001b[39m gca()\u001b[38;5;241m.\u001b[39mscatter(\n\u001b[1;32m   3688\u001b[0m         x,\n\u001b[1;32m   3689\u001b[0m         y,\n\u001b[1;32m   3690\u001b[0m         s\u001b[38;5;241m=\u001b[39ms,\n\u001b[1;32m   3691\u001b[0m         c\u001b[38;5;241m=\u001b[39mc,\n\u001b[1;32m   3692\u001b[0m         marker\u001b[38;5;241m=\u001b[39mmarker,\n\u001b[1;32m   3693\u001b[0m         cmap\u001b[38;5;241m=\u001b[39mcmap,\n\u001b[1;32m   3694\u001b[0m         norm\u001b[38;5;241m=\u001b[39mnorm,\n\u001b[1;32m   3695\u001b[0m         vmin\u001b[38;5;241m=\u001b[39mvmin,\n\u001b[1;32m   3696\u001b[0m         vmax\u001b[38;5;241m=\u001b[39mvmax,\n\u001b[1;32m   3697\u001b[0m         alpha\u001b[38;5;241m=\u001b[39malpha,\n\u001b[1;32m   3698\u001b[0m         linewidths\u001b[38;5;241m=\u001b[39mlinewidths,\n\u001b[1;32m   3699\u001b[0m         edgecolors\u001b[38;5;241m=\u001b[39medgecolors,\n\u001b[1;32m   3700\u001b[0m         plotnonfinite\u001b[38;5;241m=\u001b[39mplotnonfinite,\n\u001b[1;32m   3701\u001b[0m         \u001b[38;5;241m*\u001b[39m\u001b[38;5;241m*\u001b[39m({\u001b[38;5;124m\"\u001b[39m\u001b[38;5;124mdata\u001b[39m\u001b[38;5;124m\"\u001b[39m: data} \u001b[38;5;28;01mif\u001b[39;00m data \u001b[38;5;129;01mis\u001b[39;00m \u001b[38;5;129;01mnot\u001b[39;00m \u001b[38;5;28;01mNone\u001b[39;00m \u001b[38;5;28;01melse\u001b[39;00m {}),\n\u001b[1;32m   3702\u001b[0m         \u001b[38;5;241m*\u001b[39m\u001b[38;5;241m*\u001b[39mkwargs,\n\u001b[1;32m   3703\u001b[0m     )\n\u001b[1;32m   3704\u001b[0m     sci(__ret)\n\u001b[1;32m   3705\u001b[0m     \u001b[38;5;28;01mreturn\u001b[39;00m __ret\n",
      "File \u001b[0;32m~/anaconda3/lib/python3.11/site-packages/matplotlib/__init__.py:1465\u001b[0m, in \u001b[0;36m_preprocess_data.<locals>.inner\u001b[0;34m(ax, data, *args, **kwargs)\u001b[0m\n\u001b[1;32m   1462\u001b[0m \u001b[38;5;129m@functools\u001b[39m\u001b[38;5;241m.\u001b[39mwraps(func)\n\u001b[1;32m   1463\u001b[0m \u001b[38;5;28;01mdef\u001b[39;00m \u001b[38;5;21minner\u001b[39m(ax, \u001b[38;5;241m*\u001b[39margs, data\u001b[38;5;241m=\u001b[39m\u001b[38;5;28;01mNone\u001b[39;00m, \u001b[38;5;241m*\u001b[39m\u001b[38;5;241m*\u001b[39mkwargs):\n\u001b[1;32m   1464\u001b[0m     \u001b[38;5;28;01mif\u001b[39;00m data \u001b[38;5;129;01mis\u001b[39;00m \u001b[38;5;28;01mNone\u001b[39;00m:\n\u001b[0;32m-> 1465\u001b[0m         \u001b[38;5;28;01mreturn\u001b[39;00m func(ax, \u001b[38;5;241m*\u001b[39m\u001b[38;5;28mmap\u001b[39m(sanitize_sequence, args), \u001b[38;5;241m*\u001b[39m\u001b[38;5;241m*\u001b[39mkwargs)\n\u001b[1;32m   1467\u001b[0m     bound \u001b[38;5;241m=\u001b[39m new_sig\u001b[38;5;241m.\u001b[39mbind(ax, \u001b[38;5;241m*\u001b[39margs, \u001b[38;5;241m*\u001b[39m\u001b[38;5;241m*\u001b[39mkwargs)\n\u001b[1;32m   1468\u001b[0m     auto_label \u001b[38;5;241m=\u001b[39m (bound\u001b[38;5;241m.\u001b[39marguments\u001b[38;5;241m.\u001b[39mget(label_namer)\n\u001b[1;32m   1469\u001b[0m                   \u001b[38;5;129;01mor\u001b[39;00m bound\u001b[38;5;241m.\u001b[39mkwargs\u001b[38;5;241m.\u001b[39mget(label_namer))\n",
      "File \u001b[0;32m~/anaconda3/lib/python3.11/site-packages/matplotlib/axes/_axes.py:4741\u001b[0m, in \u001b[0;36mAxes.scatter\u001b[0;34m(self, x, y, s, c, marker, cmap, norm, vmin, vmax, alpha, linewidths, edgecolors, plotnonfinite, **kwargs)\u001b[0m\n\u001b[1;32m   4735\u001b[0m         linewidths \u001b[38;5;241m=\u001b[39m [\n\u001b[1;32m   4736\u001b[0m             lw \u001b[38;5;28;01mif\u001b[39;00m lw \u001b[38;5;129;01mis\u001b[39;00m \u001b[38;5;129;01mnot\u001b[39;00m \u001b[38;5;28;01mNone\u001b[39;00m \u001b[38;5;28;01melse\u001b[39;00m mpl\u001b[38;5;241m.\u001b[39mrcParams[\u001b[38;5;124m'\u001b[39m\u001b[38;5;124mlines.linewidth\u001b[39m\u001b[38;5;124m'\u001b[39m]\n\u001b[1;32m   4737\u001b[0m             \u001b[38;5;28;01mfor\u001b[39;00m lw \u001b[38;5;129;01min\u001b[39;00m linewidths]\n\u001b[1;32m   4739\u001b[0m offsets \u001b[38;5;241m=\u001b[39m np\u001b[38;5;241m.\u001b[39mma\u001b[38;5;241m.\u001b[39mcolumn_stack([x, y])\n\u001b[0;32m-> 4741\u001b[0m collection \u001b[38;5;241m=\u001b[39m mcoll\u001b[38;5;241m.\u001b[39mPathCollection(\n\u001b[1;32m   4742\u001b[0m     (path,), scales,\n\u001b[1;32m   4743\u001b[0m     facecolors\u001b[38;5;241m=\u001b[39mcolors,\n\u001b[1;32m   4744\u001b[0m     edgecolors\u001b[38;5;241m=\u001b[39medgecolors,\n\u001b[1;32m   4745\u001b[0m     linewidths\u001b[38;5;241m=\u001b[39mlinewidths,\n\u001b[1;32m   4746\u001b[0m     offsets\u001b[38;5;241m=\u001b[39moffsets,\n\u001b[1;32m   4747\u001b[0m     offset_transform\u001b[38;5;241m=\u001b[39mkwargs\u001b[38;5;241m.\u001b[39mpop(\u001b[38;5;124m'\u001b[39m\u001b[38;5;124mtransform\u001b[39m\u001b[38;5;124m'\u001b[39m, \u001b[38;5;28mself\u001b[39m\u001b[38;5;241m.\u001b[39mtransData),\n\u001b[1;32m   4748\u001b[0m     alpha\u001b[38;5;241m=\u001b[39malpha,\n\u001b[1;32m   4749\u001b[0m )\n\u001b[1;32m   4750\u001b[0m collection\u001b[38;5;241m.\u001b[39mset_transform(mtransforms\u001b[38;5;241m.\u001b[39mIdentityTransform())\n\u001b[1;32m   4751\u001b[0m \u001b[38;5;28;01mif\u001b[39;00m colors \u001b[38;5;129;01mis\u001b[39;00m \u001b[38;5;28;01mNone\u001b[39;00m:\n",
      "File \u001b[0;32m~/anaconda3/lib/python3.11/site-packages/matplotlib/collections.py:1027\u001b[0m, in \u001b[0;36mPathCollection.__init__\u001b[0;34m(self, paths, sizes, **kwargs)\u001b[0m\n\u001b[1;32m   1013\u001b[0m \u001b[38;5;28;01mdef\u001b[39;00m \u001b[38;5;21m__init__\u001b[39m(\u001b[38;5;28mself\u001b[39m, paths, sizes\u001b[38;5;241m=\u001b[39m\u001b[38;5;28;01mNone\u001b[39;00m, \u001b[38;5;241m*\u001b[39m\u001b[38;5;241m*\u001b[39mkwargs):\n\u001b[1;32m   1014\u001b[0m \u001b[38;5;250m    \u001b[39m\u001b[38;5;124;03m\"\"\"\u001b[39;00m\n\u001b[1;32m   1015\u001b[0m \u001b[38;5;124;03m    Parameters\u001b[39;00m\n\u001b[1;32m   1016\u001b[0m \u001b[38;5;124;03m    ----------\u001b[39;00m\n\u001b[0;32m   (...)\u001b[0m\n\u001b[1;32m   1024\u001b[0m \u001b[38;5;124;03m        Forwarded to `.Collection`.\u001b[39;00m\n\u001b[1;32m   1025\u001b[0m \u001b[38;5;124;03m    \"\"\"\u001b[39;00m\n\u001b[0;32m-> 1027\u001b[0m     \u001b[38;5;28msuper\u001b[39m()\u001b[38;5;241m.\u001b[39m\u001b[38;5;21m__init__\u001b[39m(\u001b[38;5;241m*\u001b[39m\u001b[38;5;241m*\u001b[39mkwargs)\n\u001b[1;32m   1028\u001b[0m     \u001b[38;5;28mself\u001b[39m\u001b[38;5;241m.\u001b[39mset_paths(paths)\n\u001b[1;32m   1029\u001b[0m     \u001b[38;5;28mself\u001b[39m\u001b[38;5;241m.\u001b[39mset_sizes(sizes)\n",
      "File \u001b[0;32m~/anaconda3/lib/python3.11/site-packages/matplotlib/collections.py:203\u001b[0m, in \u001b[0;36mCollection.__init__\u001b[0;34m(self, edgecolors, facecolors, linewidths, linestyles, capstyle, joinstyle, antialiaseds, offsets, offset_transform, norm, cmap, pickradius, hatch, urls, zorder, **kwargs)\u001b[0m\n\u001b[1;32m    200\u001b[0m \u001b[38;5;28mself\u001b[39m\u001b[38;5;241m.\u001b[39m_offset_transform \u001b[38;5;241m=\u001b[39m offset_transform\n\u001b[1;32m    202\u001b[0m \u001b[38;5;28mself\u001b[39m\u001b[38;5;241m.\u001b[39m_path_effects \u001b[38;5;241m=\u001b[39m \u001b[38;5;28;01mNone\u001b[39;00m\n\u001b[0;32m--> 203\u001b[0m \u001b[38;5;28mself\u001b[39m\u001b[38;5;241m.\u001b[39m_internal_update(kwargs)\n\u001b[1;32m    204\u001b[0m \u001b[38;5;28mself\u001b[39m\u001b[38;5;241m.\u001b[39m_paths \u001b[38;5;241m=\u001b[39m \u001b[38;5;28;01mNone\u001b[39;00m\n",
      "File \u001b[0;32m~/anaconda3/lib/python3.11/site-packages/matplotlib/artist.py:1219\u001b[0m, in \u001b[0;36mArtist._internal_update\u001b[0;34m(self, kwargs)\u001b[0m\n\u001b[1;32m   1212\u001b[0m \u001b[38;5;28;01mdef\u001b[39;00m \u001b[38;5;21m_internal_update\u001b[39m(\u001b[38;5;28mself\u001b[39m, kwargs):\n\u001b[1;32m   1213\u001b[0m \u001b[38;5;250m    \u001b[39m\u001b[38;5;124;03m\"\"\"\u001b[39;00m\n\u001b[1;32m   1214\u001b[0m \u001b[38;5;124;03m    Update artist properties without prenormalizing them, but generating\u001b[39;00m\n\u001b[1;32m   1215\u001b[0m \u001b[38;5;124;03m    errors as if calling `set`.\u001b[39;00m\n\u001b[1;32m   1216\u001b[0m \n\u001b[1;32m   1217\u001b[0m \u001b[38;5;124;03m    The lack of prenormalization is to maintain backcompatibility.\u001b[39;00m\n\u001b[1;32m   1218\u001b[0m \u001b[38;5;124;03m    \"\"\"\u001b[39;00m\n\u001b[0;32m-> 1219\u001b[0m     \u001b[38;5;28;01mreturn\u001b[39;00m \u001b[38;5;28mself\u001b[39m\u001b[38;5;241m.\u001b[39m_update_props(\n\u001b[1;32m   1220\u001b[0m         kwargs, \u001b[38;5;124m\"\u001b[39m\u001b[38;5;132;01m{cls.__name__}\u001b[39;00m\u001b[38;5;124m.set() got an unexpected keyword argument \u001b[39m\u001b[38;5;124m\"\u001b[39m\n\u001b[1;32m   1221\u001b[0m         \u001b[38;5;124m\"\u001b[39m\u001b[38;5;132;01m{prop_name!r}\u001b[39;00m\u001b[38;5;124m\"\u001b[39m)\n",
      "File \u001b[0;32m~/anaconda3/lib/python3.11/site-packages/matplotlib/artist.py:1195\u001b[0m, in \u001b[0;36mArtist._update_props\u001b[0;34m(self, props, errfmt)\u001b[0m\n\u001b[1;32m   1192\u001b[0m             \u001b[38;5;28;01mif\u001b[39;00m \u001b[38;5;129;01mnot\u001b[39;00m \u001b[38;5;28mcallable\u001b[39m(func):\n\u001b[1;32m   1193\u001b[0m                 \u001b[38;5;28;01mraise\u001b[39;00m \u001b[38;5;167;01mAttributeError\u001b[39;00m(\n\u001b[1;32m   1194\u001b[0m                     errfmt\u001b[38;5;241m.\u001b[39mformat(\u001b[38;5;28mcls\u001b[39m\u001b[38;5;241m=\u001b[39m\u001b[38;5;28mtype\u001b[39m(\u001b[38;5;28mself\u001b[39m), prop_name\u001b[38;5;241m=\u001b[39mk))\n\u001b[0;32m-> 1195\u001b[0m             ret\u001b[38;5;241m.\u001b[39mappend(func(v))\n\u001b[1;32m   1196\u001b[0m \u001b[38;5;28;01mif\u001b[39;00m ret:\n\u001b[1;32m   1197\u001b[0m     \u001b[38;5;28mself\u001b[39m\u001b[38;5;241m.\u001b[39mpchanged()\n",
      "File \u001b[0;32m~/anaconda3/lib/python3.11/site-packages/matplotlib/collections.py:848\u001b[0m, in \u001b[0;36mCollection.set_alpha\u001b[0;34m(self, alpha)\u001b[0m\n\u001b[1;32m    836\u001b[0m \u001b[38;5;28;01mdef\u001b[39;00m \u001b[38;5;21mset_alpha\u001b[39m(\u001b[38;5;28mself\u001b[39m, alpha):\n\u001b[1;32m    837\u001b[0m \u001b[38;5;250m    \u001b[39m\u001b[38;5;124;03m\"\"\"\u001b[39;00m\n\u001b[1;32m    838\u001b[0m \u001b[38;5;124;03m    Set the transparency of the collection.\u001b[39;00m\n\u001b[1;32m    839\u001b[0m \n\u001b[0;32m   (...)\u001b[0m\n\u001b[1;32m    846\u001b[0m \u001b[38;5;124;03m        supported.\u001b[39;00m\n\u001b[1;32m    847\u001b[0m \u001b[38;5;124;03m    \"\"\"\u001b[39;00m\n\u001b[0;32m--> 848\u001b[0m     artist\u001b[38;5;241m.\u001b[39mArtist\u001b[38;5;241m.\u001b[39m_set_alpha_for_array(\u001b[38;5;28mself\u001b[39m, alpha)\n\u001b[1;32m    849\u001b[0m     \u001b[38;5;28mself\u001b[39m\u001b[38;5;241m.\u001b[39m_set_facecolor(\u001b[38;5;28mself\u001b[39m\u001b[38;5;241m.\u001b[39m_original_facecolor)\n\u001b[1;32m    850\u001b[0m     \u001b[38;5;28mself\u001b[39m\u001b[38;5;241m.\u001b[39m_set_edgecolor(\u001b[38;5;28mself\u001b[39m\u001b[38;5;241m.\u001b[39m_original_edgecolor)\n",
      "File \u001b[0;32m~/anaconda3/lib/python3.11/site-packages/matplotlib/artist.py:1031\u001b[0m, in \u001b[0;36mArtist._set_alpha_for_array\u001b[0;34m(self, alpha)\u001b[0m\n\u001b[1;32m   1021\u001b[0m \u001b[38;5;250m\u001b[39m\u001b[38;5;124;03m\"\"\"\u001b[39;00m\n\u001b[1;32m   1022\u001b[0m \u001b[38;5;124;03mSet the alpha value used for blending - not supported on all backends.\u001b[39;00m\n\u001b[1;32m   1023\u001b[0m \n\u001b[0;32m   (...)\u001b[0m\n\u001b[1;32m   1028\u001b[0m \u001b[38;5;124;03m    Masked values and nans are not supported.\u001b[39;00m\n\u001b[1;32m   1029\u001b[0m \u001b[38;5;124;03m\"\"\"\u001b[39;00m\n\u001b[1;32m   1030\u001b[0m \u001b[38;5;28;01mif\u001b[39;00m \u001b[38;5;28misinstance\u001b[39m(alpha, \u001b[38;5;28mstr\u001b[39m):\n\u001b[0;32m-> 1031\u001b[0m     \u001b[38;5;28;01mraise\u001b[39;00m \u001b[38;5;167;01mTypeError\u001b[39;00m(\u001b[38;5;124m\"\u001b[39m\u001b[38;5;124malpha must be numeric or None, not a string\u001b[39m\u001b[38;5;124m\"\u001b[39m)\n\u001b[1;32m   1032\u001b[0m \u001b[38;5;28;01mif\u001b[39;00m \u001b[38;5;129;01mnot\u001b[39;00m np\u001b[38;5;241m.\u001b[39miterable(alpha):\n\u001b[1;32m   1033\u001b[0m     Artist\u001b[38;5;241m.\u001b[39mset_alpha(\u001b[38;5;28mself\u001b[39m, alpha)\n",
      "\u001b[0;31mTypeError\u001b[0m: alpha must be numeric or None, not a string"
     ]
    },
    {
     "data": {
      "image/png": "[encoded data removed]",
      "text/plain": [
       "<Figure size 1000x600 with 2 Axes>"
      ]
     },
     "metadata": {},
     "output_type": "display_data"
    }
   ],
   "source": [
    "plt.figure(figsize=(10,6), dpi=100)\n",
    "\n",
    "plt.subplot(3,1,3)\n",
    "ax = plot_spike_train(stimulation_spike_trains, 1e3, alpha=0.25, size=500)\n",
    "plt.xticks([0.0, 1e3], [0.0, 1.0])\n",
    "plt.xlabel(\"Time (s)\")\n",
    "plt.ylabel(\"Stimulation Neuron ID\")\n",
    "\n",
    "plt.subplot(3,1,2)\n",
    "ax = plot_spike_train(input_neuron_spike_trains, 1e3, size=500)\n",
    "plt.xticks([])\n",
    "plt.ylabel(\"Input Neuron ID\")\n",
    "\n",
    "plt.subplot(3,1,1)\n",
    "ax = plot_spike_train(output_neuron_spike_trains, 1e3, size=500, color='red')\n",
    "plt.xticks([])\n",
    "plt.ylabel(\"Output Neuron ID\")"
   ]
  },
  {
   "cell_type": "markdown",
   "metadata": {},
   "source": [
    "### Inferring synaptic weights from activity"
   ]
  },
  {
   "cell_type": "code",
   "execution_count": null,
   "metadata": {},
   "outputs": [],
   "source": [
    "# Starting with a zero-centred small variance guess\n",
    "initial_guess_matrix = 0.001*(r.uniform(size=(nb_output_neurons, nb_input_neurons)) - 0.5)\n",
    "learning_rate = 5e-4\n",
    "check_interval = 10"
   ]
  },
  {
   "cell_type": "code",
   "execution_count": null,
   "metadata": {},
   "outputs": [],
   "source": [
    "batch_size = 10\n",
    "akrout_guesses = fitter.akrout(\n",
    "            initial_guess_matrix,\n",
    "            input_neuron_spike_trains,\n",
    "            output_neuron_spike_trains,\n",
    "            simulation_time,\n",
    "            100,  # resample period\n",
    "            10,   # batch size\n",
    "            learning_rate,\n",
    "            check_interval)\n",
    "\n",
    "tau_fast, tau_slow = 10.0, 200.0\n",
    "stdwi_guesses = fitter.stdwi(\n",
    "                initial_guess_matrix,\n",
    "                input_neuron_spike_trains,\n",
    "                output_neuron_spike_trains,\n",
    "                simulation_time,\n",
    "                100,\n",
    "                timestep,\n",
    "                tau_fast/tau_slow, tau_slow,\n",
    "                1.0, tau_fast,\n",
    "                learning_rate, check_interval)\n",
    "\n",
    "alpha = 0.05\n",
    "window_size = 40\n",
    "rdd_guesses = fitter.rdd(\n",
    "                initial_guess_matrix,\n",
    "                input_neuron_mem,\n",
    "                input_neuron_acc,\n",
    "                output_neuron_xpsps,\n",
    "                alpha, window_size,\n",
    "                1.0, # Spiking threshold\n",
    "                timestep,\n",
    "                learning_rate,\n",
    "                check_interval)"
   ]
  },
  {
   "cell_type": "code",
   "execution_count": null,
   "metadata": {},
   "outputs": [],
   "source": [
    "plt.figure(figsize=(12,4))\n",
    "xmax = np.max(np.abs(input_output_weights.flatten()))*1.1\n",
    "\n",
    "plt.subplot(1,3,1)\n",
    "plt.scatter(input_output_weights.flatten(), akrout_guesses[-1].flatten(), alpha=0.25)\n",
    "plt.xlim([-xmax, xmax])\n",
    "plt.ylim([-1.1*np.max(np.abs(akrout_guesses[-1].flatten())), 1.1*np.max(np.abs(akrout_guesses[-1].flatten()))])\n",
    "plt.title(\"Akrout Method\")\n",
    "\n",
    "plt.subplot(1,3,2)\n",
    "plt.scatter(input_output_weights.flatten(), stdwi_guesses[-1].flatten(), alpha=0.25)\n",
    "plt.xlim([-xmax, xmax])\n",
    "plt.ylim([-1.1*np.max(np.abs(stdwi_guesses[-1].flatten())), 1.1*np.max(np.abs(stdwi_guesses[-1].flatten()))])\n",
    "plt.title(\"STDWI Method\")\n",
    "\n",
    "plt.subplot(1,3,3)\n",
    "plt.scatter(input_output_weights.flatten(), rdd_guesses[-1].flatten(), alpha=0.25)\n",
    "plt.xlim([-xmax, xmax])\n",
    "plt.ylim([-1.1*np.max(np.abs(rdd_guesses[-1].flatten())), 1.1*np.max(np.abs(rdd_guesses[-1].flatten()))])\n",
    "plt.title(\"RDD Method\")"
   ]
  },
  {
   "cell_type": "markdown",
   "metadata": {},
   "source": [
    "### Measuring accuracies"
   ]
  },
  {
   "cell_type": "code",
   "execution_count": null,
   "metadata": {},
   "outputs": [],
   "source": [
    "pearson_correlations = [[], [], []]\n",
    "sign_accuracies = [[], [], []]\n",
    "\n",
    "results = [akrout_guesses, stdwi_guesses, rdd_guesses]\n",
    "\n",
    "for r_indx in range(len(results)):\n",
    "    for r_guess in results[r_indx]:\n",
    "        pearson_correlations[r_indx].append(spstats.pearsonr(r_guess.flatten(), input_output_weights.flatten())[0])\n",
    "        sign_accuracies[r_indx].append(methods.sign_alignment(r_guess.flatten(), input_output_weights.flatten()))"
   ]
  },
  {
   "cell_type": "code",
   "execution_count": null,
   "metadata": {},
   "outputs": [],
   "source": [
    "plt.figure(figsize=(12,4))\n",
    "\n",
    "plt.subplot(1,2,1)\n",
    "plt.title('Pearson Correlation Comparison')\n",
    "plt.plot(pearson_correlations[0], label='Akrout')\n",
    "plt.plot(pearson_correlations[1], label='STDWI')\n",
    "plt.plot(pearson_correlations[2], label='RDD')\n",
    "plt.xlabel(\"Simulation Time (s)\")\n",
    "plt.ylabel(\"Pearson Correlation Coefficient (r)\")\n",
    "\n",
    "plt.legend()\n",
    "plt.subplot(1,2,2)\n",
    "plt.title('Sign Alignment Comparison')\n",
    "plt.plot(sign_accuracies[0], label='Akrout')\n",
    "plt.plot(sign_accuracies[1], label='STDWI')\n",
    "plt.plot(sign_accuracies[2], label='RDD')\n",
    "plt.xlabel(\"Simulation Time (s)\")\n",
    "plt.ylabel(\"Sign Alignment -- ratio\")\n",
    "plt.legend()"
   ]
  },
  {
   "cell_type": "code",
   "execution_count": null,
   "metadata": {},
   "outputs": [],
   "source": []
  },
  {
   "cell_type": "code",
   "execution_count": null,
   "metadata": {},
   "outputs": [],
   "source": []
  },
  {
   "cell_type": "code",
   "execution_count": null,
   "metadata": {},
   "outputs": [],
   "source": []
  },
  {
   "cell_type": "code",
   "execution_count": null,
   "metadata": {},
   "outputs": [],
   "source": []
  },
  {
   "cell_type": "code",
   "execution_count": null,
   "metadata": {},
   "outputs": [],
   "source": []
  }
 ],
 "metadata": {
  "kernelspec": {
   "display_name": "Python 3 (ipykernel)",
   "language": "python",
   "name": "python3"
  },
  "language_info": {
   "codemirror_mode": {
    "name": "ipython",
    "version": 3
   },
   "file_extension": ".py",
   "mimetype": "text/x-python",
   "name": "python",
   "nbconvert_exporter": "python",
   "pygments_lexer": "ipython3",
   "version": "3.11.7"
  }
 },
 "nbformat": 4,
 "nbformat_minor": 4
}
